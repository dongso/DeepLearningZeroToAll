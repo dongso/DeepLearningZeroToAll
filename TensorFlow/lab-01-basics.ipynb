{
 "cells": [
  {
   "cell_type": "markdown",
   "metadata": {
    "slideshow": {
     "slide_type": "slide"
    }
   },
   "source": [
    "# Getting Started With TensorFlow\n",
    "https://www.tensorflow.org/get_started/get_started"
   ]
  },
  {
   "cell_type": "markdown",
   "metadata": {},
   "source": [
    "## Check TF version"
   ]
  },
  {
   "cell_type": "code",
   "execution_count": 1,
   "metadata": {
    "collapsed": false,
    "slideshow": {
     "slide_type": "slide"
    }
   },
   "outputs": [
    {
     "data": {
      "text/plain": [
       "'1.12.0'"
      ]
     },
     "execution_count": 1,
     "metadata": {},
     "output_type": "execute_result"
    }
   ],
   "source": [
    "import tensorflow as tf  # tensorflow\n",
    "tf.__version__  # tensorflow version"
   ]
  },
  {
   "cell_type": "markdown",
   "metadata": {},
   "source": [
    "## Hello TensorFlow!"
   ]
  },
  {
   "cell_type": "code",
   "execution_count": 3,
   "metadata": {
    "collapsed": false
   },
   "outputs": [
    {
     "name": "stdout",
     "output_type": "stream",
     "text": [
      "b'Hello, TensorFlow!'\n"
     ]
    }
   ],
   "source": [
    "# 상수 생성 작업 Create a constant op\n",
    "# 이 작업은 (텐서플로우) 기본 그래프에 노드를 추가한다. This op is added as a node to the default graph\n",
    "hello = tf.constant(\"Hello, TensorFlow!\") # 문자열 상수\n",
    "\n",
    "# 텐서플로우 세션을 시작한다 start a TF session\n",
    "sess = tf.Session()\n",
    "\n",
    "# 작업을 실행하고 결과를 얻는다 run the op and get result\n",
    "print(sess.run(hello))"
   ]
  },
  {
   "cell_type": "markdown",
   "metadata": {
    "slideshow": {
     "slide_type": "slide"
    }
   },
   "source": [
    "## Tensors"
   ]
  },
  {
   "cell_type": "code",
   "execution_count": 5,
   "metadata": {
    "collapsed": false,
    "slideshow": {
     "slide_type": "slide"
    }
   },
   "outputs": [
    {
     "name": "stdout",
     "output_type": "stream",
     "text": [
      "3\n[1.0, 2.0, 3.0]\n[[1.0, 2.0, 3.0], [4.0, 5.0, 6.0]]\n[[[1.0, 2.0, 3.0]], [[7.0, 8.0, 9.0]]]\n"
     ]
    }
   ],
   "source": [
    "print(3)  # 랭크 0인 텐서로 [] Shape인 스칼라이다. a rank 0 tensor; this is a scalar with shape []\n",
    "print([1. ,2., 3.])  # 랭크 1인 텐서로 [3] Shape인 벡터이다. a rank 1 tensor; this is a vector with shape [3]\n",
    "print([[1., 2., 3.], [4., 5., 6.]])  # 랭크 2인 텐서로 [2, 3] Shape인 행렬이다. a rank 2 tensor; a matrix with shape [2, 3]\n",
    "print([[[1., 2., 3.]], [[7., 8., 9.]]])  # [2, 1, 3] Shape인 랭크 3인 텐서이다. a rank 3 tensor with shape [2, 1, 3]"
   ]
  },
  {
   "cell_type": "markdown",
   "metadata": {},
   "source": [
    "## Computational Graph"
   ]
  },
  {
   "cell_type": "code",
   "execution_count": 6,
   "metadata": {
    "collapsed": false
   },
   "outputs": [],
   "source": [
    "node1 = tf.constant(3.0, tf.float32)  # 명시적 float32 상수 3.0 \n",
    "node2 = tf.constant(4.0)  # 암묵적 float32 상수 4.0 also tf.float32 implicitly\n",
    "node3 = tf.add(node1, node2)  # node1, node2 더한 결과를 node3에 저장"
   ]
  },
  {
   "cell_type": "code",
   "execution_count": 5,
   "metadata": {
    "collapsed": false,
    "scrolled": true
   },
   "outputs": [
    {
     "name": "stdout",
     "output_type": "stream",
     "text": [
      "node1: Tensor(\"Const_1:0\", shape=(), dtype=float32) node2: Tensor(\"Const_2:0\", shape=(), dtype=float32)\n",
      "node3:  Tensor(\"Add:0\", shape=(), dtype=float32)\n"
     ]
    }
   ],
   "source": [
    "print(\"node1:\", node1, \"node2:\", node2)  # node1, node2 출력하면 계산되지 않은 Tensor 정보 출력\n",
    "print(\"node3: \", node3)  # node3 출력 계산되지 않은 Tensor 정보 출력"
   ]
  },
  {
   "cell_type": "markdown",
   "metadata": {},
   "source": [
    "![Graph](https://www.tensorflow.org/images/getting_started_adder.png)"
   ]
  },
  {
   "cell_type": "code",
   "execution_count": 7,
   "metadata": {
    "collapsed": false,
    "scrolled": true
   },
   "outputs": [
    {
     "name": "stdout",
     "output_type": "stream",
     "text": [
      "sess.run(node1, node2):  [3.0, 4.0]\nsess.run(node3):  7.0\n"
     ]
    }
   ],
   "source": [
    "sess = tf.Session()  # 세션을 생성한다\n",
    "print(\"sess.run(node1, node2): \", sess.run([node1, node2]))  # node1, node2에 대한 정보를 얻는 작업을 실행한다.\n",
    "print(\"sess.run(node3): \", sess.run(node3))  # node2 에 대한 정보를 얻는 작업을 실행한다."
   ]
  },
  {
   "cell_type": "code",
   "execution_count": 8,
   "metadata": {
    "collapsed": false
   },
   "outputs": [
    {
     "name": "stdout",
     "output_type": "stream",
     "text": [
      "7.5\n[3. 7.]\n"
     ]
    }
   ],
   "source": [
    "a = tf.placeholder(tf.float32)  # 플레이스홀더 a를 생성한다. 구조만 선언하고 실제 값은 추후 feed_dict 로 입력한다\n",
    "b = tf.placeholder(tf.float32)  # 플레이스홀더 b를 생성한다. 구조만 선언하고 실제 값은 추후 feed_dict 로 입력한다\n",
    "adder_node = a + b  # + 연산으로 a와 b 플레이스홀더를 더한다. tf.add(a, b)명령과 같다. + provides a shortcut for tf.add(a, b)\n",
    "\n",
    "print(sess.run(adder_node, feed_dict={a: 3, b: 4.5}))  # adder_node에 대한 정보를 얻는 작업을 실행한다. feed_dict에 a와 b의 입력 데이터 상수 값을 딕셔너리로 묶어 지정한다. \n",
    "print(sess.run(adder_node, feed_dict={a: [1,3], b: [2, 4]}))  # adder_node에 대한 정보를 얻는 작업을 실행한다. feed_dict에 a와 b의 입력 데이터 리스트 값을 딕셔너리로 묶어 지정한다."
   ]
  },
  {
   "cell_type": "code",
   "execution_count": 9,
   "metadata": {
    "collapsed": false
   },
   "outputs": [
    {
     "name": "stdout",
     "output_type": "stream",
     "text": [
      "22.5\n"
     ]
    }
   ],
   "source": [
    "add_and_triple = adder_node * 3.  # adder_node에 3을 곱한다. \n",
    "print(sess.run(add_and_triple, feed_dict={a: 3, b:4.5}))  # add_and_triple에 대한 정보를 얻는 작업을 실행한다. (3+4.5)*3=22.5"
   ]
  },
  {
   "cell_type": "code",
   "execution_count": null,
   "metadata": {},
   "outputs": [],
   "source": []
  }
 ],
 "metadata": {
  "kernelspec": {
   "display_name": "Python 3",
   "language": "python",
   "name": "python3"
  },
  "language_info": {
   "codemirror_mode": {
    "name": "ipython",
    "version": 3
   },
   "file_extension": ".py",
   "mimetype": "text/x-python",
   "name": "python",
   "nbconvert_exporter": "python",
   "pygments_lexer": "ipython3",
   "version": "3.6.0"
  }
 },
 "nbformat": 4,
 "nbformat_minor": 0
}
